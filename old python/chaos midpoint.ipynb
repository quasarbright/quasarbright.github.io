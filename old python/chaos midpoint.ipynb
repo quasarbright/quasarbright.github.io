{
 "cells": [
  {
   "cell_type": "code",
   "execution_count": 14,
   "metadata": {},
   "outputs": [],
   "source": [
    "import matplotlib.pyplot as plt, math, random\n",
    "%matplotlib inline"
   ]
  },
  {
   "cell_type": "code",
   "execution_count": 22,
   "metadata": {},
   "outputs": [
    {
     "data": {
      "text/plain": [
       "<2, 4>"
      ]
     },
     "execution_count": 22,
     "metadata": {},
     "output_type": "execute_result"
    },
    {
     "data": {
      "image/png": "[encoded data removed]",
      "text/plain": [
       "<matplotlib.figure.Figure at 0x22c11505b38>"
      ]
     },
     "metadata": {},
     "output_type": "display_data"
    }
   ],
   "source": [
    "class Vector(object):\n",
    "    def __init__(self,x=0,y=0):\n",
    "        self.x = x\n",
    "        self.y = y\n",
    "    def add(self,other):\n",
    "        self.x += other.x\n",
    "        self.y += other.y\n",
    "        return self\n",
    "    def sub(self,other):\n",
    "        self.x -= other.x\n",
    "        self.y -= other.y\n",
    "        return self\n",
    "    def mul(self,k):\n",
    "        self.x *= k\n",
    "        self.y *= k\n",
    "        return self\n",
    "    def copy(self):\n",
    "        return Vector(self.x,self.y)\n",
    "    def __str__(self):\n",
    "        return '<{0}, {1}>'.format(self.x,self.y)\n",
    "    def toList(self):\n",
    "        return [self.x,self.y]\n",
    "    def plot(self):\n",
    "        plt.plot(self.x,self.y,'b,')\n",
    "    __repr__ = __str__\n",
    "v = Vector(1,2)\n",
    "v.plot()\n",
    "v.mul(2)"
   ]
  },
  {
   "cell_type": "code",
   "execution_count": 16,
   "metadata": {},
   "outputs": [
    {
     "data": {
      "text/plain": [
       "(<2.0, 3.0>, <1, 2>, <3, 4>)"
      ]
     },
     "execution_count": 16,
     "metadata": {},
     "output_type": "execute_result"
    }
   ],
   "source": [
    "def midpoint(v,u):\n",
    "    ans = v.copy()\n",
    "    diff = u.copy().sub(ans)\n",
    "    diff.mul(.5)\n",
    "    ans.add(diff)\n",
    "    return ans\n",
    "v = Vector(1,2)\n",
    "u = Vector(3,4)\n",
    "midpoint(v,u),v,u"
   ]
  },
  {
   "cell_type": "code",
   "execution_count": 31,
   "metadata": {},
   "outputs": [
    {
     "data": {
      "image/png": "[encoded data removed]",
      "text/plain": [
       "<matplotlib.figure.Figure at 0x22c11b9e278>"
      ]
     },
     "metadata": {},
     "output_type": "display_data"
    }
   ],
   "source": [
    "attractors = [\n",
    "    (-1,-1),\n",
    "    (1,-1),\n",
    "    (0,1)\n",
    "]\n",
    "attractors = [Vector(e[0],e[1]) for e in attractors]\n",
    "AX = [v.x for v in attractors]\n",
    "AY = [v.y for v in attractors]\n",
    "plt.plot(AX,AY,'ro')\n",
    "\n",
    "v = Vector(.25,.5)\n",
    "for x in range(2000):\n",
    "    target = random.choice(attractors)\n",
    "    v = midpoint(v,target)\n",
    "    v.plot()\n",
    "plt.show()"
   ]
  }
 ],
 "metadata": {
  "kernelspec": {
   "display_name": "Python 3",
   "language": "python",
   "name": "python3"
  },
  "language_info": {
   "codemirror_mode": {
    "name": "ipython",
    "version": 3
   },
   "file_extension": ".py",
   "mimetype": "text/x-python",
   "name": "python",
   "nbconvert_exporter": "python",
   "pygments_lexer": "ipython3",
   "version": "3.5.2"
  }
 },
 "nbformat": 4,
 "nbformat_minor": 2
}

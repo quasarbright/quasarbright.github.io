{
 "cells": [
  {
   "cell_type": "markdown",
   "metadata": {},
   "source": [
    "# This is the general structure of any dynamic programming algorithm.\n",
    "## with loop\n",
    "based on hamiltonian path dynamic programming approach. *Maybe* look at it as an example. It's pretty complicated\n",
    "```python\n",
    "memo = {}\n",
    "def f(args):\n",
    "    try:\n",
    "        return memo[args]\n",
    "    except KeyError:\n",
    "        pass\n",
    "    if base case:\n",
    "        ans = evaluate it\n",
    "        memo[args] = ans\n",
    "        return ans\n",
    "    for whatever:#might be attempted starting points, etc.\n",
    "        ans = f(smaller args based on whatever)\n",
    "        memo[smaller args based on whatever] = ans\n",
    "        do something with ans, probably return something\n",
    "        continue otherwise\n",
    "```\n",
    "## without loop\n",
    "based on fibonacci dynamic approach. See it for an example. Very simple\n",
    "```python\n",
    "memo = {}\n",
    "def f(args):\n",
    "    try:\n",
    "        return memo[args]\n",
    "    except KeyError:\n",
    "        pass\n",
    "    if base case:\n",
    "        ans = evaluate it\n",
    "        memo[args] = ans\n",
    "        return ans\n",
    "    ans = f(smaller args) #probably not just f; do something with f like ans = f(n-1) + f(n-2) for fib\n",
    "    memo[smaller args] = ans\n",
    "    return ans\n",
    "```\n",
    "## remeber:\n",
    "* you're using the same function for main task as subtasks. Keep both uses in mind and respect the self-similarity\n",
    "* don't alter arguments because memo dictionary relies on immutables so reordering would mess things up\n",
    "* probably use frozenSets to address that ^ if you need to\n",
    "* you need to store stuff in memo outside of the base so not only base case args get stored in memo\n",
    "* define memo outside of function"
   ]
  }
 ],
 "metadata": {
  "kernelspec": {
   "display_name": "Python 3",
   "language": "python",
   "name": "python3"
  },
  "language_info": {
   "codemirror_mode": {
    "name": "ipython",
    "version": 3
   },
   "file_extension": ".py",
   "mimetype": "text/x-python",
   "name": "python",
   "nbconvert_exporter": "python",
   "pygments_lexer": "ipython3",
   "version": "3.6.3"
  }
 },
 "nbformat": 4,
 "nbformat_minor": 2
}

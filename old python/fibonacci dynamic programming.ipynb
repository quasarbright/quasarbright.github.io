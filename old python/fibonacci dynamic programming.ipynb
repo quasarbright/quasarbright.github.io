{
 "cells": [
  {
   "cell_type": "code",
   "execution_count": 33,
   "metadata": {},
   "outputs": [
    {
     "name": "stdout",
     "output_type": "stream",
     "text": [
      "1.618033988749895\n"
     ]
    }
   ],
   "source": [
    "memo = {}\n",
    "def fib(n):\n",
    "    try:\n",
    "        return memo[n]\n",
    "    except KeyError:\n",
    "        pass\n",
    "    if n == 1:\n",
    "        memo[1] = 1\n",
    "        return 1\n",
    "    if n == 2:\n",
    "        memo[2] = 1\n",
    "        return 1\n",
    "    a = fib(n-1)\n",
    "    b = fib(n-2)\n",
    "    ans = a + b\n",
    "    memo[n] = ans\n",
    "    return ans\n",
    "print(fib(100)/fib(99))"
   ]
  }
 ],
 "metadata": {
  "kernelspec": {
   "display_name": "Python 3",
   "language": "python",
   "name": "python3"
  },
  "language_info": {
   "codemirror_mode": {
    "name": "ipython",
    "version": 3
   },
   "file_extension": ".py",
   "mimetype": "text/x-python",
   "name": "python",
   "nbconvert_exporter": "python",
   "pygments_lexer": "ipython3",
   "version": "3.6.3"
  }
 },
 "nbformat": 4,
 "nbformat_minor": 2
}

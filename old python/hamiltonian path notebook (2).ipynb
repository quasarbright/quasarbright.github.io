{
 "cells": [
  {
   "cell_type": "code",
   "execution_count": 1,
   "metadata": {},
   "outputs": [],
   "source": [
    "import math"
   ]
  },
  {
   "cell_type": "markdown",
   "metadata": {},
   "source": [
    "# number theory stuff"
   ]
  },
  {
   "cell_type": "code",
   "execution_count": 2,
   "metadata": {},
   "outputs": [],
   "source": [
    "def isSquare(num):\n",
    "    return math.sqrt(num) == math.floor(math.sqrt(num))"
   ]
  },
  {
   "cell_type": "markdown",
   "metadata": {},
   "source": [
    "# set and graph stuff"
   ]
  },
  {
   "cell_type": "code",
   "execution_count": 3,
   "metadata": {},
   "outputs": [
    {
     "name": "stdout",
     "output_type": "stream",
     "text": [
      "set()\n"
     ]
    }
   ],
   "source": [
    "vertices = set([])\n",
    "print(vertices)"
   ]
  },
  {
   "cell_type": "code",
   "execution_count": 4,
   "metadata": {
    "scrolled": false
   },
   "outputs": [],
   "source": [
    "def isAdjacent(a,b):\n",
    "    return (a in vertices and b in vertices and isSquare(a+b) and a != b)\n",
    "for x in vertices:\n",
    "    line = ''\n",
    "    for y in vertices:\n",
    "        line += str(int(isAdjacent(x,y))) + ' '\n",
    "    print(line)"
   ]
  },
  {
   "cell_type": "code",
   "execution_count": 5,
   "metadata": {},
   "outputs": [
    {
     "data": {
      "text/plain": [
       "set()"
      ]
     },
     "execution_count": 5,
     "metadata": {},
     "output_type": "execute_result"
    }
   ],
   "source": [
    "def getNeighbors(S,v):\n",
    "    neighbors = set([])\n",
    "    for w in S:\n",
    "        if isAdjacent(v, w):\n",
    "            neighbors.add(w)\n",
    "    return neighbors\n",
    "getNeighbors(vertices, 1)"
   ]
  },
  {
   "cell_type": "markdown",
   "metadata": {},
   "source": [
    "# actual algorithm"
   ]
  },
  {
   "cell_type": "code",
   "execution_count": 6,
   "metadata": {
    "scrolled": false
   },
   "outputs": [
    {
     "name": "stdout",
     "output_type": "stream",
     "text": [
      "True\n"
     ]
    }
   ],
   "source": [
    "memo = {}\n",
    "def doesPathExist(S,v):\n",
    "    #print(S,v)\n",
    "    if not v in S:\n",
    "        raise Exception(\"{0} not in {1}\".format(v,S))\n",
    "    try:\n",
    "        ans = memo[(frozenset(S),v)]\n",
    "        #print('hey we know',S,v)\n",
    "        return ans\n",
    "    except KeyError:\n",
    "        pass\n",
    "    if not getNeighbors(S,v):#base case\n",
    "        #print(S,v,getNeighbors(S,v))\n",
    "        return False\n",
    "    if len(S) == 2:#base case\n",
    "#         #print('base case')\n",
    "        S_ = S.copy()\n",
    "        a = S_.pop()\n",
    "        b = S_.pop()\n",
    "        memo[(frozenset(S),v)] = isAdjacent(a,b)\n",
    "        return isAdjacent(a,b)\n",
    "    for w in getNeighbors(S,v):\n",
    "        SNotv = S.copy()\n",
    "        SNotv.discard(v)#S-v\n",
    "        ans = doesPathExist(SNotv,w)\n",
    "        memo[(frozenset(SNotv),w)] = ans\n",
    "        if ans:\n",
    "            return ans\n",
    "        else:\n",
    "            continue\n",
    "    return False\n",
    "vertices = set([])\n",
    "vertices = set(range(1,30))\n",
    "done = False\n",
    "worked = False\n",
    "for v in vertices:\n",
    "    if done:\n",
    "        break\n",
    "    if doesPathExist(vertices,v):\n",
    "        worked = True\n",
    "        done = True\n",
    "print(worked)"
   ]
  }
 ],
 "metadata": {
  "kernelspec": {
   "display_name": "Python 3",
   "language": "python",
   "name": "python3"
  },
  "language_info": {
   "codemirror_mode": {
    "name": "ipython",
    "version": 3
   },
   "file_extension": ".py",
   "mimetype": "text/x-python",
   "name": "python",
   "nbconvert_exporter": "python",
   "pygments_lexer": "ipython3",
   "version": "3.6.3"
  }
 },
 "nbformat": 4,
 "nbformat_minor": 2
}

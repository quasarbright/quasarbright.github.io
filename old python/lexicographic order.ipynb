{
 "cells": [
  {
   "cell_type": "markdown",
   "metadata": {},
   "source": [
    "# example lexicographic progression"
   ]
  },
  {
   "cell_type": "code",
   "execution_count": 3,
   "metadata": {
    "scrolled": true
   },
   "outputs": [
    {
     "name": "stdout",
     "output_type": "stream",
     "text": [
      "[0, 1, 2, 3]\n",
      "[0, 1, 3, 2]\n",
      "[0, 2, 1, 3]\n",
      "[0, 2, 3, 1]\n",
      "[0, 3, 1, 2]\n",
      "[0, 3, 2, 1]\n",
      "[1, 0, 2, 3]\n",
      "[1, 0, 3, 2]\n",
      "[1, 2, 0, 3]\n",
      "[1, 2, 3, 0]\n",
      "[1, 3, 0, 2]\n",
      "[1, 3, 2, 0]\n",
      "[2, 0, 1, 3]\n",
      "[2, 0, 3, 1]\n",
      "[2, 1, 0, 3]\n",
      "[2, 1, 3, 0]\n",
      "[2, 3, 0, 1]\n",
      "[2, 3, 1, 0]\n",
      "[3, 0, 1, 2]\n",
      "[3, 0, 2, 1]\n",
      "[3, 1, 0, 2]\n",
      "[3, 1, 2, 0]\n",
      "[3, 2, 0, 1]\n",
      "[3, 2, 1, 0]\n",
      "done\n"
     ]
    }
   ],
   "source": [
    "arr = [0,1,2,3]\n",
    "print(arr)\n",
    "while True:\n",
    "    i = len(arr)-1\n",
    "    while arr[i] <= arr[i-1] and i > 0:\n",
    "        i = i - 1\n",
    "    if i == 0:\n",
    "        print('done')\n",
    "        break\n",
    "    else:\n",
    "        pivot = arr[i-1]\n",
    "        j = len(arr)-1\n",
    "        while pivot >= arr[j]:\n",
    "            assert j>=i\n",
    "            j = j - 1\n",
    "        successor = arr[j]\n",
    "        arr[i-1] = successor\n",
    "        arr[j] = pivot\n",
    "        suffix = arr[i:]\n",
    "        suffix = suffix[::-1]\n",
    "        arr = arr[:i] + suffix\n",
    "        print(arr)"
   ]
  },
  {
   "cell_type": "markdown",
   "metadata": {},
   "source": [
    "[article describing algorithm](https://www.nayuki.io/page/next-lexicographical-permutation-algorithm)"
   ]
  },
  {
   "cell_type": "markdown",
   "metadata": {},
   "source": [
    "# General next lexicographic permutation function"
   ]
  },
  {
   "cell_type": "code",
   "execution_count": 26,
   "metadata": {},
   "outputs": [
    {
     "name": "stdout",
     "output_type": "stream",
     "text": [
      "[1, 2, 3] [1, 3, 2]\n"
     ]
    }
   ],
   "source": [
    "def nextPerm(arr_,compareTo):\n",
    "    \"\"\"generate the next permutation of arr given a compareTo function\n",
    "    arr_ is a list\n",
    "    compareTo returns 0, 1, or -1 for ==, >, and < respectively\"\"\"\n",
    "    arr = list(arr_[:])#don't change arr\n",
    "    i = len(arr)-1\n",
    "    while compareTo(arr[i],arr[i-1]) <= 0 and i > 0: #a <= b\n",
    "        i = i - 1\n",
    "    if i == 0:\n",
    "        return None\n",
    "    else:\n",
    "        pivot = arr[i-1]\n",
    "        j = len(arr)-1\n",
    "        while compareTo(pivot, arr[j]) >= 0: #a >= b\n",
    "            assert j>=i\n",
    "            j = j - 1\n",
    "        successor = arr[j]\n",
    "        arr[i-1] = successor\n",
    "        arr[j] = pivot\n",
    "        suffix = arr[i:]\n",
    "        suffix = suffix[::-1]\n",
    "        arr = arr[:i] + suffix\n",
    "        return arr\n",
    "\n",
    "#test\n",
    "def myCompareTo(a,b):\n",
    "    \"\"\"compares two numbers a and b like > < ==\"\"\"\n",
    "    if a>b:\n",
    "        return 1\n",
    "    elif a==b:\n",
    "        return 0\n",
    "    elif a<b:\n",
    "        return -1\n",
    "arr = [1,2,3]\n",
    "print(arr,nextPerm(arr,myCompareTo))"
   ]
  },
  {
   "cell_type": "markdown",
   "metadata": {},
   "source": [
    "# Generate all permutations of a list\n",
    "~~TODO: test with list with duplicates~~ works"
   ]
  },
  {
   "cell_type": "code",
   "execution_count": 74,
   "metadata": {
    "scrolled": true
   },
   "outputs": [
    {
     "name": "stdout",
     "output_type": "stream",
     "text": [
      "['abcd', 'abdc', 'acbd', 'acdb', 'adbc', 'adcb', 'bacd', 'badc', 'bcad', 'bcda', 'bdac', 'bdca', 'cabd', 'cadb', 'cbad', 'cbda', 'cdab', 'cdba', 'dabc', 'dacb', 'dbac', 'dbca', 'dcab', 'dcba']\n",
      "24\n"
     ]
    }
   ],
   "source": [
    "def allPerms(arr):\n",
    "    indices = tuple(range(len(arr)))\n",
    "    \"\"\"generates a set of all permutations of a list\n",
    "    returns a list of all permutation lists\n",
    "    (2D array with ~n! rows and n columns)\"\"\"\n",
    "    def myCompareTo(a,b):\n",
    "        \"\"\"compares two elements from indices by their numerical value\"\"\"\n",
    "        if a>b: return 1\n",
    "        elif a==b: return 0\n",
    "        elif a<b: return -1\n",
    "    perms = set([tuple(arr)])\n",
    "    new = nextPerm(indices,myCompareTo)\n",
    "    while new:\n",
    "#         print('new:',[arr[i] for i in new])\n",
    "#         if tuple([arr[i] for i in new]) in perms:print(tuple([arr[i] for i in indices]),'dup')#investigating why last perm not in set\n",
    "        perms.add(tuple([arr[i] for i in new]))\n",
    "        indices = new\n",
    "        new = nextPerm(indices,myCompareTo)\n",
    "    return perms\n",
    "ans = [''.join(e) for e in allPerms('abcd')]\n",
    "print(sorted(ans))\n",
    "print(len(ans))"
   ]
  },
  {
   "cell_type": "markdown",
   "metadata": {},
   "source": [
    "# Generate all permutations of a list (ready to copy)"
   ]
  },
  {
   "cell_type": "code",
   "execution_count": 75,
   "metadata": {},
   "outputs": [
    {
     "name": "stdout",
     "output_type": "stream",
     "text": [
      "['abcd', 'abdc', 'acbd', 'acdb', 'adbc', 'adcb', 'bacd', 'badc', 'bcad', 'bcda', 'bdac', 'bdca', 'cabd', 'cadb', 'cbad', 'cbda', 'cdab', 'cdba', 'dabc', 'dacb', 'dbac', 'dbca', 'dcab', 'dcba']\n",
      "24\n"
     ]
    }
   ],
   "source": [
    "def nextPerm(arr_,compareTo):\n",
    "    \"\"\"generate the next permutation of arr given a compareTo function\n",
    "    arr_ is a list\n",
    "    compareTo returns 0, 1, or -1 for ==, >, and < respectively\"\"\"\n",
    "    arr = list(arr_[:])#don't want to change arr\n",
    "    i = len(arr)-1\n",
    "    while compareTo(arr[i],arr[i-1]) <= 0 and i > 0: #a <= b\n",
    "        i = i - 1\n",
    "    if i == 0:\n",
    "        return None\n",
    "    else:\n",
    "        pivot = arr[i-1]\n",
    "        j = len(arr)-1\n",
    "        while compareTo(pivot, arr[j]) >= 0: #a >= b\n",
    "            assert j>=i\n",
    "            j = j - 1\n",
    "        successor = arr[j]\n",
    "        arr[i-1] = successor\n",
    "        arr[j] = pivot\n",
    "        suffix = arr[i:]\n",
    "        suffix = suffix[::-1]\n",
    "        arr = arr[:i] + suffix\n",
    "        return arr\n",
    "def allPerms(arr):\n",
    "    indices = tuple(range(len(arr)))\n",
    "    \"\"\"generates a set of all permutations of a list\n",
    "    returns a list of all permutation lists\n",
    "    (2D array with ~n! rows and n columns)\"\"\"\n",
    "    def myCompareTo(a,b):\n",
    "        \"\"\"compares two elements from indices by their numerical value\"\"\"\n",
    "        if a>b: return 1\n",
    "        elif a==b: return 0\n",
    "        elif a<b: return -1\n",
    "    perms = set([tuple(arr)])\n",
    "    new = nextPerm(indices,myCompareTo)\n",
    "    while new:\n",
    "#         print('new:',[arr[i] for i in new])\n",
    "#         if tuple([arr[i] for i in new]) in perms:print(tuple([arr[i] for i in indices]),'dup')\n",
    "        perms.add(tuple([arr[i] for i in new]))\n",
    "        indices = new\n",
    "        new = nextPerm(indices,myCompareTo)\n",
    "    return perms\n",
    "ans = [''.join(e) for e in allPerms('abcd')]\n",
    "print(sorted(ans))\n",
    "print(len(ans))"
   ]
  },
  {
   "cell_type": "code",
   "execution_count": 78,
   "metadata": {
    "collapsed": true
   },
   "outputs": [],
   "source": [
    "def nextPerm(arr_):\n",
    "    \"\"\"generate the next permutation of arr\n",
    "    arr_ is a list of numbers\"\"\"\n",
    "    arr = list(arr_[:])#don't want to change arr\n",
    "    i = len(arr)-1\n",
    "    while arr[i] <= arr[i-1] and i > 0:\n",
    "        i = i - 1\n",
    "    if i == 0:\n",
    "        return None\n",
    "    else:\n",
    "        pivot = arr[i-1]\n",
    "        j = len(arr)-1\n",
    "        while pivot >= arr[j]:\n",
    "            assert j>=i\n",
    "            j = j - 1\n",
    "        successor = arr[j]\n",
    "        arr[i-1] = successor\n",
    "        arr[j] = pivot\n",
    "        suffix = arr[i:]\n",
    "        suffix = suffix[::-1]\n",
    "        arr = arr[:i] + suffix\n",
    "        return arr\n",
    "def allPerms(arr):\n",
    "    \"\"\"generates a set of all permutations of a list\n",
    "    returns a set of all permutation tuples\n",
    "    (2D array with ~n! rows and n columns)\"\"\"\n",
    "    indices = tuple(range(len(arr)))\n",
    "    perms = set([tuple(arr)])\n",
    "    new = nextPerm(indices)\n",
    "    while new:\n",
    "        perms.add(tuple([arr[i] for i in new]))\n",
    "        indices = new\n",
    "        new = nextPerm(indices)\n",
    "    return perms"
   ]
  }
 ],
 "metadata": {
  "kernelspec": {
   "display_name": "Python 3",
   "language": "python",
   "name": "python3"
  },
  "language_info": {
   "codemirror_mode": {
    "name": "ipython",
    "version": 3
   },
   "file_extension": ".py",
   "mimetype": "text/x-python",
   "name": "python",
   "nbconvert_exporter": "python",
   "pygments_lexer": "ipython3",
   "version": "3.5.2"
  }
 },
 "nbformat": 4,
 "nbformat_minor": 2
}

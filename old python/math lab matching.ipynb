{
 "cells": [
  {
   "cell_type": "code",
   "execution_count": 1,
   "metadata": {},
   "outputs": [],
   "source": [
    "import random"
   ]
  },
  {
   "cell_type": "markdown",
   "metadata": {},
   "source": [
    "# random brute force because permutations (kms approach)\n",
    "please come back after doing lexicographic order for God's sake"
   ]
  },
  {
   "cell_type": "code",
   "execution_count": 2,
   "metadata": {
    "scrolled": true
   },
   "outputs": [
    {
     "name": "stdout",
     "output_type": "stream",
     "text": [
      "[3, 4, 5] bracken\n",
      "[3, 4, 5] bracken\n",
      "[3, 4, 5] bracken\n",
      "[3, 4, 5] bracken\n",
      "[3, 4, 5] bracken\n",
      "[3, 4, 5] bracken\n",
      "[3, 4, 5] bracken\n",
      "[3, 4, 5] bracken\n",
      "[3, 4, 5] bracken\n",
      "[3, 4, 5] bracken\n",
      "[3, 4, 5] bracken\n",
      "[3, 4, 5] bracken\n",
      "[3, 4, 5] bracken\n",
      "[3, 4, 5] bracken\n"
     ]
    }
   ],
   "source": [
    "#has 1 solution\n",
    "\n",
    "vertices = ['a','b','c','x','y','z']\n",
    "indices = list(range(len(vertices)))\n",
    "adj = [\n",
    "    # a  b  c  x  y  z\n",
    "    [ 0, 0, 0, 1, 0, 1],#a\n",
    "    [ 0, 0, 0, 0, 1, 0],#b\n",
    "    [ 0, 0, 0, 0, 1, 1],#c\n",
    "    [ 1, 0, 0, 0, 0, 0],#x\n",
    "    [ 0, 1, 1, 0, 0, 0],#y\n",
    "    [ 1, 0, 1, 0, 0, 0] #z\n",
    "]\n",
    "starts = indices[:int(len(indices)/2)]\n",
    "ends = indices[int(len(indices)/2):]\n",
    "# print(starts,ends)\n",
    "for x in range(100):\n",
    "    random.shuffle(ends)\n",
    "    #check if is a solution\n",
    "    passed = True\n",
    "    for i in range(len(starts)):\n",
    "        if not adj[starts[i]][ends[i]]:\n",
    "            passed = False\n",
    "            break\n",
    "    if passed:\n",
    "        print(ends, 'bracken')"
   ]
  },
  {
   "cell_type": "code",
   "execution_count": 3,
   "metadata": {
    "scrolled": true
   },
   "outputs": [
    {
     "name": "stdout",
     "output_type": "stream",
     "text": [
      "[3, 4, 5] bracken\n",
      "[3, 4, 5] bracken\n",
      "[5, 4, 3] bracken\n",
      "[5, 4, 3] bracken\n",
      "[5, 4, 3] bracken\n",
      "[3, 4, 5] bracken\n",
      "[5, 4, 3] bracken\n",
      "[3, 4, 5] bracken\n",
      "[5, 4, 3] bracken\n",
      "[3, 4, 5] bracken\n",
      "[3, 4, 5] bracken\n",
      "[5, 4, 3] bracken\n",
      "[3, 4, 5] bracken\n",
      "[5, 4, 3] bracken\n",
      "[3, 4, 5] bracken\n",
      "[5, 4, 3] bracken\n",
      "[3, 4, 5] bracken\n",
      "[5, 4, 3] bracken\n",
      "[5, 4, 3] bracken\n",
      "[3, 4, 5] bracken\n",
      "[5, 4, 3] bracken\n",
      "[5, 4, 3] bracken\n",
      "[3, 4, 5] bracken\n",
      "[5, 4, 3] bracken\n",
      "[5, 4, 3] bracken\n",
      "[5, 4, 3] bracken\n",
      "[3, 4, 5] bracken\n",
      "[5, 4, 3] bracken\n",
      "[3, 4, 5] bracken\n",
      "[3, 4, 5] bracken\n",
      "[3, 4, 5] bracken\n",
      "[5, 4, 3] bracken\n",
      "[3, 4, 5] bracken\n",
      "[5, 4, 3] bracken\n"
     ]
    }
   ],
   "source": [
    "#has 2 solutions\n",
    "\n",
    "vertices = ['a','b','c','x','y','z']\n",
    "indices = list(range(len(vertices)))\n",
    "adj = [\n",
    "    # a  b  c  x  y  z\n",
    "    [ 0, 0, 0, 1, 0, 1],#a\n",
    "    [ 0, 0, 0, 0, 1, 0],#b\n",
    "    [ 0, 0, 0, 1, 1, 1],#c\n",
    "    [ 1, 0, 1, 0, 0, 0],#x\n",
    "    [ 0, 1, 1, 0, 0, 0],#y\n",
    "    [ 1, 0, 1, 0, 0, 0] #z\n",
    "]\n",
    "starts = indices[:int(len(indices)/2)]\n",
    "ends = indices[int(len(indices)/2):]\n",
    "# print(starts,ends)\n",
    "for x in range(100):\n",
    "    random.shuffle(ends)\n",
    "    #check if is a solution\n",
    "    passed = True\n",
    "    for i in range(len(starts)):\n",
    "        if not adj[starts[i]][ends[i]]:\n",
    "            passed = False\n",
    "            break\n",
    "    if passed:\n",
    "        print(ends, 'bracken')"
   ]
  },
  {
   "cell_type": "code",
   "execution_count": 4,
   "metadata": {},
   "outputs": [
    {
     "name": "stdout",
     "output_type": "stream",
     "text": [
      "True\n"
     ]
    }
   ],
   "source": [
    "#generalized kms approach\n",
    "\n",
    "def hasSolution(vertices, adj):\n",
    "    assert len(vertices) % 2 == 0\n",
    "    indices = list(range(len(vertices)))\n",
    "    starts = indices[:int(len(indices)/2)]\n",
    "    ends = indices[int(len(indices)/2):]\n",
    "    # print(starts,ends)\n",
    "    for x in range(100):\n",
    "        random.shuffle(ends)\n",
    "        #check if is a solution\n",
    "        passed = True\n",
    "        for i in range(len(starts)):\n",
    "            if not adj[starts[i]][ends[i]]:\n",
    "                passed = False\n",
    "                break\n",
    "        if passed:\n",
    "            return True\n",
    "    return False\n",
    "print(hasSolution(vertices,adj))"
   ]
  },
  {
   "cell_type": "code",
   "execution_count": 5,
   "metadata": {
    "scrolled": true
   },
   "outputs": [
    {
     "name": "stdout",
     "output_type": "stream",
     "text": [
      "[0, 1, 2] bracken\n",
      "[2, 1, 0] bracken\n",
      "[0, 1, 2] bracken\n",
      "[2, 1, 0] bracken\n",
      "[0, 1, 2] bracken\n",
      "[2, 1, 0] bracken\n",
      "[2, 1, 0] bracken\n",
      "[0, 1, 2] bracken\n",
      "[2, 1, 0] bracken\n",
      "[0, 1, 2] bracken\n",
      "[0, 1, 2] bracken\n",
      "[0, 1, 2] bracken\n",
      "[2, 1, 0] bracken\n",
      "[0, 1, 2] bracken\n",
      "[0, 1, 2] bracken\n",
      "[0, 1, 2] bracken\n",
      "[0, 1, 2] bracken\n",
      "[0, 1, 2] bracken\n",
      "[2, 1, 0] bracken\n",
      "[0, 1, 2] bracken\n",
      "[0, 1, 2] bracken\n",
      "[0, 1, 2] bracken\n",
      "[0, 1, 2] bracken\n",
      "[2, 1, 0] bracken\n",
      "[0, 1, 2] bracken\n",
      "[0, 1, 2] bracken\n",
      "[0, 1, 2] bracken\n",
      "[0, 1, 2] bracken\n",
      "[0, 1, 2] bracken\n",
      "[2, 1, 0] bracken\n",
      "[2, 1, 0] bracken\n",
      "[0, 1, 2] bracken\n",
      "[2, 1, 0] bracken\n",
      "[0, 1, 2] bracken\n",
      "[2, 1, 0] bracken\n"
     ]
    }
   ],
   "source": [
    "#more compact kms approach\n",
    "\n",
    "starts = list(range(3))\n",
    "ends = list(range(3))\n",
    "\n",
    "adj = [\n",
    "    #a  b  c\n",
    "    [1, 0, 1],#x\n",
    "    [0, 1, 0],#y\n",
    "    [1, 1, 1] #z\n",
    "]\n",
    "for x in range(100):\n",
    "    random.shuffle(ends)\n",
    "    #check if is a solution\n",
    "    passed = True\n",
    "    for i in range(len(starts)):\n",
    "        if not adj[starts[i]][ends[i]]:\n",
    "            passed = False\n",
    "            break\n",
    "    if passed:\n",
    "        print(ends, 'bracken')"
   ]
  },
  {
   "cell_type": "code",
   "execution_count": 8,
   "metadata": {},
   "outputs": [
    {
     "name": "stdout",
     "output_type": "stream",
     "text": [
      "True\n"
     ]
    }
   ],
   "source": [
    "# generalized compact kms approach\n",
    "\n",
    "def hasSolution(starts, ends_, adj):\n",
    "    ends = [i for i in ends_]\n",
    "    for x in range(100):\n",
    "        random.shuffle(ends)\n",
    "        #check if is a solution\n",
    "        passed = True\n",
    "        for i in range(len(starts)):\n",
    "            if not adj[starts[i]][ends[i]]:\n",
    "                passed = False\n",
    "                break\n",
    "        if passed:\n",
    "            return True\n",
    "    return False\n",
    "print(hasSolution(starts,ends,adj))"
   ]
  },
  {
   "cell_type": "markdown",
   "metadata": {},
   "source": [
    "dynamic programming approach pseudocode:\n",
    "```python\n",
    "memo = {}\n",
    "def hasSolution(   ):\n",
    "    try:\n",
    "        return memo[args]\n",
    "    if size is two: #base case\n",
    "        if connected:\n",
    "            memo[args] = true\n",
    "        else:\n",
    "            memo[args] = false# just say memo[args] = connected\n",
    "        return connected\n",
    "    find a connection\n",
    "    throw the connection out\n",
    "    throw those vertices out\n",
    "    ans = hasSolution( stuff without that connection or its vertices)\n",
    "    memo[args] = ans\n",
    "    return ans\n",
    "\n",
    "```"
   ]
  },
  {
   "cell_type": "markdown",
   "metadata": {},
   "source": [
    "# lexicographic order brute force approach"
   ]
  },
  {
   "cell_type": "code",
   "execution_count": 3,
   "metadata": {},
   "outputs": [
    {
     "name": "stdout",
     "output_type": "stream",
     "text": [
      "(2, 1, 0) bracken\n",
      "(0, 1, 2) bracken\n"
     ]
    }
   ],
   "source": [
    "def nextPerm(arr_):\n",
    "    \"\"\"generate the next permutation of arr\n",
    "    arr_ is a list of numbers\"\"\"\n",
    "    arr = list(arr_[:])#don't want to change arr\n",
    "    i = len(arr)-1\n",
    "    while arr[i] <= arr[i-1] and i > 0:\n",
    "        i = i - 1\n",
    "    if i == 0:\n",
    "        return None\n",
    "    else:\n",
    "        pivot = arr[i-1]\n",
    "        j = len(arr)-1\n",
    "        while pivot >= arr[j]:\n",
    "            assert j>=i\n",
    "            j = j - 1\n",
    "        successor = arr[j]\n",
    "        arr[i-1] = successor\n",
    "        arr[j] = pivot\n",
    "        suffix = arr[i:]\n",
    "        suffix = suffix[::-1]\n",
    "        arr = arr[:i] + suffix\n",
    "        return arr\n",
    "def allPerms(arr):\n",
    "    \"\"\"generates a set of all permutations of a list\n",
    "    returns a set of all permutation tuples\n",
    "    (2D array with ~n! rows and n columns)\"\"\"\n",
    "    indices = tuple(range(len(arr)))\n",
    "    perms = set([tuple(arr)])\n",
    "    new = nextPerm(indices)\n",
    "    while new:\n",
    "        perms.add(tuple([arr[i] for i in new]))\n",
    "        indices = new\n",
    "        new = nextPerm(indices)\n",
    "    return perms\n",
    "\n",
    "\n",
    "starts = list(range(3))\n",
    "ends = list(range(3))\n",
    "endPerms = allPerms(ends)\n",
    "adj = [\n",
    "    #a  b  c\n",
    "    [1, 0, 1],#x\n",
    "    [0, 1, 0],#y\n",
    "    [1, 1, 1] #z\n",
    "]\n",
    "for perm in endPerms:\n",
    "    passed = True\n",
    "    for i in range(len(starts)):\n",
    "        if not adj[starts[i]][perm[i]]:\n",
    "            passed = False\n",
    "            break\n",
    "    if passed:\n",
    "        print(perm, 'bracken')"
   ]
  }
 ],
 "metadata": {
  "kernelspec": {
   "display_name": "Python 3",
   "language": "python",
   "name": "python3"
  },
  "language_info": {
   "codemirror_mode": {
    "name": "ipython",
    "version": 3
   },
   "file_extension": ".py",
   "mimetype": "text/x-python",
   "name": "python",
   "nbconvert_exporter": "python",
   "pygments_lexer": "ipython3",
   "version": "3.6.3"
  }
 },
 "nbformat": 4,
 "nbformat_minor": 2
}

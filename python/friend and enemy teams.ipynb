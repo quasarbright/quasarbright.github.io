{
 "cells": [
  {
   "cell_type": "markdown",
   "metadata": {},
   "source": [
    "Problem:  \n",
    "You and some friends are deciding teams for a game. Some people don't like each other, and don't want to be on the same team. There are also people who need to be on the same team because they are such good friends. There are also people who don't mind if someone is on their team or not.  \n",
    "Edge types:  \n",
    "* Friend: Must be on the same team\n",
    "* Enemy: Must be on different teams\n",
    "* Neutral: Doesn't matter if on same or different team"
   ]
  },
  {
   "cell_type": "code",
   "execution_count": 1,
   "metadata": {},
   "outputs": [],
   "source": [
    "from my_libraries.graph_theory.MyGraph import *\n",
    "import random,math"
   ]
  },
  {
   "cell_type": "code",
   "execution_count": 2,
   "metadata": {},
   "outputs": [],
   "source": [
    "def randind(arr):\n",
    "    return math.floor(random.random()*len(arr))\n",
    "def getRelNeighbors(G,node,rel):\n",
    "    ans = set([])\n",
    "    for n in G.get_neighbors(node):\n",
    "        if G[node]['to'][n]['rel'] is rel:\n",
    "            ans.add(n)\n",
    "    return ans"
   ]
  },
  {
   "cell_type": "markdown",
   "metadata": {},
   "source": [
    "## prepare graph"
   ]
  },
  {
   "cell_type": "code",
   "execution_count": 3,
   "metadata": {},
   "outputs": [
    {
     "data": {
      "text/plain": [
       "{'austin': {'from': {}, 'to': {}},\n",
       " 'bobby': {'from': {}, 'to': {}},\n",
       " 'eubihn': {'from': {}, 'to': {}},\n",
       " 'feit': {'from': {}, 'to': {}},\n",
       " 'jonah': {'from': {}, 'to': {}},\n",
       " 'kibby': {'from': {}, 'to': {}},\n",
       " 'mike': {'from': {}, 'to': {}},\n",
       " 'sean': {'from': {}, 'to': {}}}"
      ]
     },
     "execution_count": 3,
     "metadata": {},
     "output_type": "execute_result"
    }
   ],
   "source": [
    "players = [\n",
    "    'mike',\n",
    "    'bobby',\n",
    "    'eubihn',\n",
    "    'feit',\n",
    "    'austin',\n",
    "    'kibby',\n",
    "    'jonah',\n",
    "    'sean'\n",
    "]\n",
    "numTeams = 2\n",
    "G = Graph()\n",
    "G.add_node(*players)\n",
    "G"
   ]
  },
  {
   "cell_type": "code",
   "execution_count": 4,
   "metadata": {},
   "outputs": [
    {
     "data": {
      "text/plain": [
       "{'austin': {'from': {'jonah': {'rel': 'friend'}},\n",
       "  'to': {'jonah': {'rel': 'friend'}}},\n",
       " 'bobby': {'from': {'mike': {'rel': 'friend'}},\n",
       "  'to': {'mike': {'rel': 'friend'}}},\n",
       " 'eubihn': {'from': {'jonah': {'rel': 'enemy'}},\n",
       "  'to': {'jonah': {'rel': 'enemy'}}},\n",
       " 'feit': {'from': {'kibby': {'rel': 'enemy'}, 'mike': {'rel': 'enemy'}},\n",
       "  'to': {'kibby': {'rel': 'enemy'}, 'mike': {'rel': 'enemy'}}},\n",
       " 'jonah': {'from': {'austin': {'rel': 'friend'}, 'eubihn': {'rel': 'enemy'}},\n",
       "  'to': {'austin': {'rel': 'friend'}, 'eubihn': {'rel': 'enemy'}}},\n",
       " 'kibby': {'from': {'feit': {'rel': 'enemy'}},\n",
       "  'to': {'feit': {'rel': 'enemy'}}},\n",
       " 'mike': {'from': {'bobby': {'rel': 'friend'}, 'feit': {'rel': 'enemy'}},\n",
       "  'to': {'bobby': {'rel': 'friend'}, 'feit': {'rel': 'enemy'}}},\n",
       " 'sean': {'from': {}, 'to': {}}}"
      ]
     },
     "execution_count": 4,
     "metadata": {},
     "output_type": "execute_result"
    }
   ],
   "source": [
    "G.set_edge('mike','feit',{'rel':'enemy'})\n",
    "G.set_edge('mike','bobby',{'rel':'friend'})\n",
    "G.set_edge('austin','jonah',{'rel':'friend'})\n",
    "G.set_edge('eubihn','jonah',{'rel':'enemy'})\n",
    "G.set_edge('feit','kibby',{'rel':'enemy'})\n",
    "G"
   ]
  },
  {
   "cell_type": "code",
   "execution_count": 5,
   "metadata": {},
   "outputs": [
    {
     "data": {
      "text/plain": [
       "{'from': {'austin': {'rel': 'neutral'},\n",
       "  'bobby': {'rel': 'friend'},\n",
       "  'eubihn': {'rel': 'neutral'},\n",
       "  'feit': {'rel': 'enemy'},\n",
       "  'jonah': {'rel': 'neutral'},\n",
       "  'kibby': {'rel': 'neutral'},\n",
       "  'sean': {'rel': 'neutral'}},\n",
       " 'to': {'austin': {'rel': 'neutral'},\n",
       "  'bobby': {'rel': 'friend'},\n",
       "  'eubihn': {'rel': 'neutral'},\n",
       "  'feit': {'rel': 'enemy'},\n",
       "  'jonah': {'rel': 'neutral'},\n",
       "  'kibby': {'rel': 'neutral'},\n",
       "  'sean': {'rel': 'neutral'}}}"
      ]
     },
     "execution_count": 5,
     "metadata": {},
     "output_type": "execute_result"
    }
   ],
   "source": [
    "for a in G.get_nodes():\n",
    "    for b in G.get_nodes():\n",
    "        if b not in G.get_neighbors(a) and a is not b:\n",
    "            G.set_edge(a,b,{'rel':'neutral'})\n",
    "G['mike']"
   ]
  },
  {
   "cell_type": "markdown",
   "metadata": {},
   "source": [
    "## random guess and check method\n",
    "problems:\n",
    "* indefinite performance time\n",
    "* if a correct arrangement does not exist, the program will infinitely loop"
   ]
  },
  {
   "cell_type": "code",
   "execution_count": 6,
   "metadata": {},
   "outputs": [
    {
     "data": {
      "text/plain": [
       "[['mike', 'austin', 'jonah', 'kibby'], ['sean', 'eubihn', 'bobby', 'feit']]"
      ]
     },
     "execution_count": 6,
     "metadata": {},
     "output_type": "execute_result"
    }
   ],
   "source": [
    "def guess():\n",
    "    teams = []\n",
    "    players = list(G.get_nodes())\n",
    "    while len(players) > 0:\n",
    "        team = []\n",
    "        while len(team)< math.floor(len(G.get_nodes())/numTeams) and len(players)>0:\n",
    "            team.append(players.pop(randind(players)))\n",
    "        teams.append(team)\n",
    "    return teams\n",
    "guess()"
   ]
  },
  {
   "cell_type": "code",
   "execution_count": 7,
   "metadata": {},
   "outputs": [
    {
     "data": {
      "text/plain": [
       "[['eubihn', 'kibby', 'mike', 'bobby'], ['feit', 'jonah', 'sean', 'austin']]"
      ]
     },
     "execution_count": 7,
     "metadata": {},
     "output_type": "execute_result"
    }
   ],
   "source": [
    "def check(guess):\n",
    "    #check enemies\n",
    "    for team in guess:\n",
    "        for a in team:\n",
    "            for b in team:\n",
    "                if a is b:\n",
    "                    continue\n",
    "                else:\n",
    "                    if G[a]['to'][b]['rel'] is 'enemy':\n",
    "                        return False\n",
    "    #check friends\n",
    "    for team in guess:\n",
    "        for a in team:\n",
    "            friends = getRelNeighbors(G,a,'friend')\n",
    "            if not friends <= set(team):\n",
    "                return False\n",
    "    return True\n",
    "g = guess()\n",
    "while not check(g):\n",
    "    g = guess()\n",
    "g"
   ]
  },
  {
   "cell_type": "markdown",
   "metadata": {},
   "source": [
    "## lexicographic guess and check method"
   ]
  },
  {
   "cell_type": "code",
   "execution_count": 8,
   "metadata": {},
   "outputs": [],
   "source": [
    "from my_libraries.lexicographicOrder import *"
   ]
  },
  {
   "cell_type": "code",
   "execution_count": 18,
   "metadata": {},
   "outputs": [
    {
     "data": {
      "text/plain": [
       "([['kibby', 'jonah', 'bobby', 'feit'], ['mike', 'eubihn', 'austin', 'sean']],\n",
       " ['kibby', 'jonah', 'bobby', 'feit', 'mike', 'eubihn', 'austin', 'sean'])"
      ]
     },
     "execution_count": 18,
     "metadata": {},
     "output_type": "execute_result"
    }
   ],
   "source": [
    "def guess(perm):\n",
    "    teams = []\n",
    "    players = perm[:]\n",
    "    while len(players) > 0:\n",
    "        team = []\n",
    "        while len(team)< math.floor(len(G.get_nodes())/numTeams) and len(players)>0:\n",
    "            team.append(players.pop(0))\n",
    "        teams.append(team)\n",
    "    return teams\n",
    "guess(list(G.get_nodes())),list(G.get_nodes())"
   ]
  },
  {
   "cell_type": "code",
   "execution_count": 21,
   "metadata": {},
   "outputs": [
    {
     "name": "stdout",
     "output_type": "stream",
     "text": [
      "['kibby', 'bobby', 'mike', 'eubihn', 'jonah', 'feit', 'austin', 'sean'] [['kibby', 'bobby', 'mike', 'eubihn'], ['jonah', 'feit', 'austin', 'sean']]\n"
     ]
    }
   ],
   "source": [
    "# uses the same check function as random guess and check method\n",
    "players = list(G.get_nodes())\n",
    "for perm in allPerms(players):\n",
    "    perm = list(perm)\n",
    "#     print(guess(perm))\n",
    "    if check(guess(perm)):\n",
    "        print(perm,guess(perm))\n",
    "        break"
   ]
  },
  {
   "cell_type": "markdown",
   "metadata": {},
   "source": [
    "## direct method"
   ]
  },
  {
   "cell_type": "code",
   "execution_count": 11,
   "metadata": {},
   "outputs": [
    {
     "data": {
      "text/plain": [
       "{'eubihn', 'jonah'}"
      ]
     },
     "execution_count": 11,
     "metadata": {},
     "output_type": "execute_result"
    }
   ],
   "source": [
    "def dft(G,a,rel):\n",
    "    visited = set([a])\n",
    "    def f(a):\n",
    "        visited.add(a)\n",
    "        for b in getRelNeighbors(G,a,rel):\n",
    "            if b not in visited:\n",
    "                f(b)\n",
    "    f(a)\n",
    "    return visited\n",
    "dft(G,'eubihn','enemy')"
   ]
  }
 ],
 "metadata": {
  "kernelspec": {
   "display_name": "Python 3",
   "language": "python",
   "name": "python3"
  },
  "language_info": {
   "codemirror_mode": {
    "name": "ipython",
    "version": 3
   },
   "file_extension": ".py",
   "mimetype": "text/x-python",
   "name": "python",
   "nbconvert_exporter": "python",
   "pygments_lexer": "ipython3",
   "version": "3.5.2"
  }
 },
 "nbformat": 4,
 "nbformat_minor": 2
}

{
 "cells": [
  {
   "cell_type": "raw",
   "metadata": {},
   "source": [
    "import random, math, sys"
   ]
  },
  {
   "cell_type": "code",
   "execution_count": 137,
   "metadata": {},
   "outputs": [],
   "source": [
    "def randind(arr):\n",
    "    return math.floor(random.random()*len(arr))\n",
    "def randele(arr):\n",
    "    return arr[randind(arr)]"
   ]
  },
  {
   "cell_type": "code",
   "execution_count": 339,
   "metadata": {},
   "outputs": [
    {
     "data": {
      "text/plain": [
       "[0, 0, 1, 0]"
      ]
     },
     "execution_count": 339,
     "metadata": {},
     "output_type": "execute_result"
    }
   ],
   "source": [
    "#setup\n",
    "numDoors = 4\n",
    "doors = [0 for x in range(numDoors)]\n",
    "carind = randind(doors)\n",
    "doors[carind] = 1\n",
    "doors"
   ]
  },
  {
   "cell_type": "code",
   "execution_count": 360,
   "metadata": {},
   "outputs": [],
   "source": [
    "def guess():\n",
    "    guess = math.floor(random.random()*len(doors))"
   ]
  },
  {
   "cell_type": "code",
   "execution_count": 370,
   "metadata": {},
   "outputs": [
    {
     "data": {
      "text/plain": [
       "1"
      ]
     },
     "execution_count": 370,
     "metadata": {},
     "output_type": "execute_result"
    }
   ],
   "source": [
    "#get which doors to reveal\n",
    "def getOther():\n",
    "    other = -1\n",
    "    pool = list(range(numDoors))#indices\n",
    "    pool.pop(guess)\n",
    "    if doors[guess] == 1:#car\n",
    "        otherpind = randind(pool)#a random index in pool (index in an index array)\n",
    "        other = pool.pop(otherpind)\n",
    "    else:#goat\n",
    "        pool = set(pool)\n",
    "        pool.remove(carind)\n",
    "        pool = list(pool)\n",
    "        other = carind\n",
    "    #     for pind in range(len(pool)):\n",
    "    #         if doors[pool[pind]] == 1:\n",
    "    #             other = pool.pop(pind)\n",
    "    #             break\n",
    "    return other\n",
    "#pool is now just the goats that are ready to be revealed\n",
    "other"
   ]
  },
  {
   "cell_type": "code",
   "execution_count": 374,
   "metadata": {},
   "outputs": [
    {
     "name": "stdout",
     "output_type": "stream",
     "text": [
      "goats are behind all of these doors:  [0, 3]\n",
      "that just leaves your guess, door number 2, and door number 1. Do you switch?\n",
      "stay wins\n"
     ]
    }
   ],
   "source": [
    "#end\n",
    "print('goats are behind all of these doors: ',str(pool))\n",
    "print('that just leaves your guess, door number {guess}, and door number {other}. Do you switch?'.format(guess=guess,other=other))\n",
    "if other == carind:\n",
    "    print('switch wins')\n",
    "elif guess == carind:\n",
    "    print('stay wins')"
   ]
  },
  {
   "cell_type": "code",
   "execution_count": null,
   "metadata": {},
   "outputs": [],
   "source": []
  }
 ],
 "metadata": {
  "kernelspec": {
   "display_name": "Python 3",
   "language": "python",
   "name": "python3"
  },
  "language_info": {
   "codemirror_mode": {
    "name": "ipython",
    "version": 3
   },
   "file_extension": ".py",
   "mimetype": "text/x-python",
   "name": "python",
   "nbconvert_exporter": "python",
   "pygments_lexer": "ipython3",
   "version": "3.5.2"
  }
 },
 "nbformat": 4,
 "nbformat_minor": 2
}

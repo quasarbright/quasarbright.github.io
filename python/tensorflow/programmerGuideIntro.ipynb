{
 "cells": [
  {
   "cell_type": "code",
   "execution_count": 1,
   "metadata": {},
   "outputs": [],
   "source": [
    "from __future__ import absolute_import\n",
    "from __future__ import division\n",
    "from __future__ import print_function"
   ]
  },
  {
   "cell_type": "code",
   "execution_count": 2,
   "metadata": {},
   "outputs": [],
   "source": [
    "import numpy as np\n",
    "import tensorflow as tf\n",
    "import os\n",
    "os.environ['TF_CPP_MIN_LOG_LEVEL'] = '2'"
   ]
  },
  {
   "cell_type": "code",
   "execution_count": 3,
   "metadata": {},
   "outputs": [
    {
     "name": "stdout",
     "output_type": "stream",
     "text": [
      "Tensor(\"Const:0\", shape=(), dtype=float32)\n",
      "Tensor(\"Const_1:0\", shape=(), dtype=float32)\n",
      "Tensor(\"add:0\", shape=(), dtype=float32)\n"
     ]
    }
   ],
   "source": [
    "a = tf.constant(3.0,dtype=tf.float32)\n",
    "b = tf.constant(4.0)#implicit tf.float32\n",
    "total = a + b\n",
    "print(a)\n",
    "print(b)\n",
    "print(total)"
   ]
  },
  {
   "cell_type": "code",
   "execution_count": 4,
   "metadata": {},
   "outputs": [],
   "source": [
    "writer = tf.summary.FileWriter('.')\n",
    "writer.add_graph(tf.get_default_graph())"
   ]
  },
  {
   "cell_type": "code",
   "execution_count": 5,
   "metadata": {},
   "outputs": [
    {
     "name": "stdout",
     "output_type": "stream",
     "text": [
      "7.0\n",
      "{'total': 7.0, 'ab': (3.0, 4.0)}\n"
     ]
    }
   ],
   "source": [
    "sess = tf.Session()\n",
    "print(sess.run(total))\n",
    "print(sess.run({'ab':(a,b),'total':total}))"
   ]
  },
  {
   "cell_type": "code",
   "execution_count": 6,
   "metadata": {},
   "outputs": [
    {
     "name": "stdout",
     "output_type": "stream",
     "text": [
      "[0.99965966 0.888132   0.8664329 ]\n",
      "[0.62394214 0.4734888  0.63211894]\n",
      "(array([1.8330115, 1.0034956, 1.9363738], dtype=float32), array([2.8330116, 2.0034957, 2.9363737], dtype=float32))\n"
     ]
    }
   ],
   "source": [
    "vec = tf.random_uniform(shape=(3,))\n",
    "out1 = vec + 1\n",
    "out2 = vec + 2\n",
    "print(sess.run(vec))\n",
    "print(sess.run(vec))\n",
    "print(sess.run((out1,out2)))"
   ]
  },
  {
   "cell_type": "code",
   "execution_count": 7,
   "metadata": {},
   "outputs": [],
   "source": [
    "x = tf.placeholder(tf.float32)\n",
    "y = tf.placeholder(tf.float32)\n",
    "z = x + y"
   ]
  },
  {
   "cell_type": "code",
   "execution_count": 8,
   "metadata": {},
   "outputs": [
    {
     "name": "stdout",
     "output_type": "stream",
     "text": [
      "3.0\n",
      "[4. 6.]\n"
     ]
    }
   ],
   "source": [
    "print(sess.run(z,feed_dict={x:1,y:2}))\n",
    "print(sess.run(z,feed_dict={x:[1,2],y:[3,4]}))"
   ]
  },
  {
   "cell_type": "code",
   "execution_count": 9,
   "metadata": {},
   "outputs": [],
   "source": [
    "my_data = [\n",
    "    [0, 1,],\n",
    "    [2, 3,],\n",
    "    [4, 5,],\n",
    "    [6, 7,],\n",
    "]\n",
    "slices = tf.data.Dataset.from_tensor_slices(my_data)\n",
    "next_item = slices.make_one_shot_iterator().get_next()"
   ]
  },
  {
   "cell_type": "code",
   "execution_count": 10,
   "metadata": {},
   "outputs": [
    {
     "name": "stdout",
     "output_type": "stream",
     "text": [
      "[0 1]\n",
      "[2 3]\n",
      "[4 5]\n",
      "[6 7]\n"
     ]
    }
   ],
   "source": [
    "while True:\n",
    "  try:\n",
    "    print(sess.run(next_item))\n",
    "  except tf.errors.OutOfRangeError:\n",
    "    break"
   ]
  },
  {
   "cell_type": "code",
   "execution_count": 11,
   "metadata": {},
   "outputs": [
    {
     "name": "stdout",
     "output_type": "stream",
     "text": [
      "[-0.41192955  0.7213786  -0.27270177]\n",
      "[ 1.2672017   0.31904745 -0.16017973]\n",
      "[-2.868603    0.7314694  -0.00400802]\n",
      "[-0.61526966  2.282496   -0.9702167 ]\n",
      "[-0.49414262 -0.48462796 -1.0142566 ]\n",
      "[-0.91311574  0.2173991   0.16299313]\n",
      "[-0.5454283   1.3852756   0.27343214]\n",
      "[-1.1847446   0.86828417  0.95591545]\n",
      "[-0.5604376   0.13206871 -1.644206  ]\n",
      "[-0.98403466 -0.761815    0.94590783]\n"
     ]
    }
   ],
   "source": [
    "r = tf.random_normal([10,3])\n",
    "dataset = tf.data.Dataset.from_tensor_slices(r)\n",
    "iterator = dataset.make_initializable_iterator()\n",
    "next_row = iterator.get_next()\n",
    "\n",
    "sess.run(iterator.initializer)\n",
    "while True:\n",
    "  try:\n",
    "    print(sess.run(next_row))\n",
    "  except tf.errors.OutOfRangeError:\n",
    "    break"
   ]
  },
  {
   "cell_type": "code",
   "execution_count": 12,
   "metadata": {},
   "outputs": [
    {
     "name": "stdout",
     "output_type": "stream",
     "text": [
      "[[2.6330552]\n",
      " [6.1669965]\n",
      " [9.700937 ]]\n"
     ]
    }
   ],
   "source": [
    "x = tf.placeholder(tf.float32, shape=[None,3])\n",
    "linear_model = tf.layers.Dense(units=1)\n",
    "y = linear_model(x)\n",
    "\n",
    "init = tf.global_variables_initializer()\n",
    "sess.run(init)\n",
    "\n",
    "print(sess.run(y,{x:[[1,2,3],[4,5,6],[7,8,9]]}))"
   ]
  },
  {
   "cell_type": "code",
   "execution_count": 13,
   "metadata": {},
   "outputs": [],
   "source": [
    "features = {\n",
    "    'sales' : [[5], [10], [8], [9]],\n",
    "    'department': ['sports', 'sports', 'gardening', 'gardening']}\n",
    "\n",
    "department_column = tf.feature_column.categorical_column_with_vocabulary_list(\n",
    "        'department', ['sports', 'gardening'])\n",
    "department_column = tf.feature_column.indicator_column(department_column)\n",
    "\n",
    "columns = [\n",
    "    tf.feature_column.numeric_column('sales'),\n",
    "    department_column\n",
    "]\n",
    "\n",
    "inputs = tf.feature_column.input_layer(features, columns)"
   ]
  },
  {
   "cell_type": "code",
   "execution_count": 14,
   "metadata": {},
   "outputs": [
    {
     "name": "stdout",
     "output_type": "stream",
     "text": [
      "[[ 1.  0.  5.]\n",
      " [ 1.  0. 10.]\n",
      " [ 0.  1.  8.]\n",
      " [ 0.  1.  9.]]\n"
     ]
    }
   ],
   "source": [
    "var_init = tf.global_variables_initializer()\n",
    "table_init = tf.tables_initializer()\n",
    "sess = tf.Session()\n",
    "sess.run((var_init, table_init))\n",
    "print(sess.run(inputs))"
   ]
  },
  {
   "cell_type": "markdown",
   "metadata": {},
   "source": [
    "# define the data"
   ]
  },
  {
   "cell_type": "code",
   "execution_count": 15,
   "metadata": {},
   "outputs": [],
   "source": [
    "x = tf.constant(     [[1], [2], [3], [4]], dtype=tf.float32)\n",
    "y_true = tf.constant([[0], [-1], [-2], [-3]], dtype=tf.float32)\n",
    "#this should end up being y = 1 - x"
   ]
  },
  {
   "cell_type": "markdown",
   "metadata": {},
   "source": [
    "# define the model"
   ]
  },
  {
   "cell_type": "code",
   "execution_count": 16,
   "metadata": {},
   "outputs": [],
   "source": [
    "linear_model = tf.layers.Dense(units=1)\n",
    "y_pred = linear_model(x) #remember x is the input set\n",
    "#and linear_model is the \"function\""
   ]
  },
  {
   "cell_type": "markdown",
   "metadata": {},
   "source": [
    "evaluate"
   ]
  },
  {
   "cell_type": "code",
   "execution_count": 17,
   "metadata": {},
   "outputs": [
    {
     "data": {
      "text/plain": [
       "array([[0.8023013],\n",
       "       [1.6046026],\n",
       "       [2.4069037],\n",
       "       [3.2092052]], dtype=float32)"
      ]
     },
     "execution_count": 17,
     "metadata": {},
     "output_type": "execute_result"
    }
   ],
   "source": [
    "sess = tf.Session()\n",
    "init = tf.global_variables_initializer()\n",
    "sess.run(init)\n",
    "sess.run(y_pred)"
   ]
  },
  {
   "cell_type": "markdown",
   "metadata": {},
   "source": [
    "That's great, but how's it going to get better?  \n",
    "We need loss, training, and optimization"
   ]
  },
  {
   "cell_type": "code",
   "execution_count": 18,
   "metadata": {},
   "outputs": [
    {
     "data": {
      "text/plain": [
       "16.350668"
      ]
     },
     "execution_count": 18,
     "metadata": {},
     "output_type": "execute_result"
    }
   ],
   "source": [
    "loss = tf.losses.mean_squared_error(labels=y_true,predictions=y_pred)\n",
    "sess.run(loss)"
   ]
  },
  {
   "cell_type": "code",
   "execution_count": 19,
   "metadata": {},
   "outputs": [],
   "source": [
    "optimizer = tf.train.GradientDescentOptimizer(0.01)#learning rate\n",
    "train = optimizer.minimize(loss)"
   ]
  },
  {
   "cell_type": "code",
   "execution_count": 20,
   "metadata": {},
   "outputs": [
    {
     "name": "stdout",
     "output_type": "stream",
     "text": [
      "16.350668\n",
      "11.450159\n",
      "8.049173\n",
      "5.6886787\n",
      "4.0501623\n",
      "2.912615\n",
      "2.1226835\n",
      "1.5739589\n",
      "1.1926059\n",
      "0.9273927\n",
      "0.74276984\n",
      "0.61407024\n",
      "0.5241784\n",
      "0.46121788\n",
      "0.41694796\n",
      "0.38565055\n",
      "0.36335796\n",
      "0.34731698\n",
      "0.3356175\n",
      "0.32693356\n",
      "0.3203457\n",
      "0.31521556\n",
      "0.31110024\n",
      "0.30769235\n",
      "0.3047787\n",
      "0.30221117\n",
      "0.2998872\n",
      "0.29773542\n",
      "0.2957063\n",
      "0.2937656\n",
      "0.29188937\n",
      "0.29006094\n",
      "0.28826904\n",
      "0.28650552\n",
      "0.28476477\n",
      "0.28304294\n",
      "0.28133726\n",
      "0.27964592\n",
      "0.27796754\n",
      "0.27630112\n",
      "0.27464604\n",
      "0.2730018\n",
      "0.27136812\n",
      "0.26974458\n",
      "0.2681311\n",
      "0.26652753\n",
      "0.26493362\n",
      "0.2633494\n",
      "0.26177466\n",
      "0.2602095\n",
      "0.25865367\n",
      "0.25710717\n",
      "0.25556993\n",
      "0.2540419\n",
      "0.25252295\n",
      "0.25101313\n",
      "0.24951236\n",
      "0.24802059\n",
      "0.24653769\n",
      "0.24506369\n",
      "0.24359849\n",
      "0.24214205\n",
      "0.2406943\n",
      "0.23925525\n",
      "0.23782481\n",
      "0.23640287\n",
      "0.23498943\n",
      "0.23358445\n",
      "0.23218791\n",
      "0.23079969\n",
      "0.2294198\n",
      "0.22804812\n",
      "0.22668466\n",
      "0.22532935\n",
      "0.22398213\n",
      "0.22264297\n",
      "0.22131182\n",
      "0.21998863\n",
      "0.21867338\n",
      "0.21736597\n",
      "0.21606635\n",
      "0.21477455\n",
      "0.21349043\n",
      "0.21221404\n",
      "0.21094523\n",
      "0.209684\n",
      "0.2084303\n",
      "0.2071842\n",
      "0.20594543\n",
      "0.20471412\n",
      "0.20349017\n",
      "0.20227353\n",
      "0.20106415\n",
      "0.19986202\n",
      "0.19866708\n",
      "0.1974793\n",
      "0.1962986\n",
      "0.19512498\n",
      "0.19395834\n",
      "0.19279867\n"
     ]
    }
   ],
   "source": [
    "for i in range(100):\n",
    "    _,loss_value = sess.run([train,loss])\n",
    "    print(loss_value)"
   ]
  },
  {
   "cell_type": "code",
   "execution_count": 21,
   "metadata": {},
   "outputs": [
    {
     "name": "stdout",
     "output_type": "stream",
     "text": [
      "[[-0.7068696]\n",
      " [-1.3425267]\n",
      " [-1.9781839]\n",
      " [-2.613841 ]]\n",
      "[[ 0.]\n",
      " [-1.]\n",
      " [-2.]\n",
      " [-3.]]\n",
      "0.19164595\n"
     ]
    }
   ],
   "source": [
    "print(sess.run(y_pred))\n",
    "print(sess.run(y_true))\n",
    "print(sess.run(loss))"
   ]
  }
 ],
 "metadata": {
  "kernelspec": {
   "display_name": "Python 3",
   "language": "python",
   "name": "python3"
  },
  "language_info": {
   "codemirror_mode": {
    "name": "ipython",
    "version": 3
   },
   "file_extension": ".py",
   "mimetype": "text/x-python",
   "name": "python",
   "nbconvert_exporter": "python",
   "pygments_lexer": "ipython3",
   "version": "3.5.2"
  }
 },
 "nbformat": 4,
 "nbformat_minor": 2
}

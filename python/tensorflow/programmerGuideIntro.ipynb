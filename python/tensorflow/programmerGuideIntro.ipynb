{
 "cells": [
  {
   "cell_type": "code",
   "execution_count": 1,
   "metadata": {},
   "outputs": [],
   "source": [
    "from __future__ import absolute_import\n",
    "from __future__ import division\n",
    "from __future__ import print_function"
   ]
  },
  {
   "cell_type": "code",
   "execution_count": 2,
   "metadata": {},
   "outputs": [],
   "source": [
    "import numpy as np\n",
    "import tensorflow as tf\n",
    "import os\n",
    "os.environ['TF_CPP_MIN_LOG_LEVEL'] = '2'"
   ]
  },
  {
   "cell_type": "code",
   "execution_count": 3,
   "metadata": {},
   "outputs": [
    {
     "name": "stdout",
     "output_type": "stream",
     "text": [
      "Tensor(\"Const:0\", shape=(), dtype=float32)\n",
      "Tensor(\"Const_1:0\", shape=(), dtype=float32)\n",
      "Tensor(\"add:0\", shape=(), dtype=float32)\n"
     ]
    }
   ],
   "source": [
    "a = tf.constant(3.0,dtype=tf.float32)\n",
    "b = tf.constant(4.0)#implicit tf.float32\n",
    "total = a + b\n",
    "print(a)\n",
    "print(b)\n",
    "print(total)"
   ]
  },
  {
   "cell_type": "code",
   "execution_count": 17,
   "metadata": {},
   "outputs": [],
   "source": [
    "writer = tf.summary.FileWriter('.')\n",
    "writer.add_graph(tf.get_default_graph())"
   ]
  },
  {
   "cell_type": "code",
   "execution_count": 6,
   "metadata": {},
   "outputs": [
    {
     "name": "stdout",
     "output_type": "stream",
     "text": [
      "7.0\n",
      "{'total': 7.0, 'ab': (3.0, 4.0)}\n"
     ]
    }
   ],
   "source": [
    "sess = tf.Session()\n",
    "print(sess.run(total))\n",
    "print(sess.run({'ab':(a,b),'total':total}))"
   ]
  },
  {
   "cell_type": "code",
   "execution_count": 7,
   "metadata": {},
   "outputs": [
    {
     "name": "stdout",
     "output_type": "stream",
     "text": [
      "[0.574734   0.4163034  0.29582632]\n",
      "[0.1580466 0.7683337 0.6976919]\n",
      "(array([1.4599353, 1.8165283, 1.1555436], dtype=float32), array([2.4599352, 2.8165283, 2.1555436], dtype=float32))\n"
     ]
    }
   ],
   "source": [
    "vec = tf.random_uniform(shape=(3,))\n",
    "out1 = vec + 1\n",
    "out2 = vec + 2\n",
    "print(sess.run(vec))\n",
    "print(sess.run(vec))\n",
    "print(sess.run((out1,out2)))"
   ]
  },
  {
   "cell_type": "code",
   "execution_count": 9,
   "metadata": {},
   "outputs": [],
   "source": [
    "x = tf.placeholder(tf.float32)\n",
    "y = tf.placeholder(tf.float32)\n",
    "z = x + y"
   ]
  },
  {
   "cell_type": "code",
   "execution_count": 12,
   "metadata": {},
   "outputs": [
    {
     "name": "stdout",
     "output_type": "stream",
     "text": [
      "3.0\n",
      "[4. 6.]\n"
     ]
    }
   ],
   "source": [
    "print(sess.run(z,feed_dict={x:1,y:2}))\n",
    "print(sess.run(z,feed_dict={x:[1,2],y:[3,4]}))"
   ]
  },
  {
   "cell_type": "code",
   "execution_count": 13,
   "metadata": {},
   "outputs": [],
   "source": [
    "my_data = [\n",
    "    [0, 1,],\n",
    "    [2, 3,],\n",
    "    [4, 5,],\n",
    "    [6, 7,],\n",
    "]\n",
    "slices = tf.data.Dataset.from_tensor_slices(my_data)\n",
    "next_item = slices.make_one_shot_iterator().get_next()"
   ]
  },
  {
   "cell_type": "code",
   "execution_count": 14,
   "metadata": {},
   "outputs": [
    {
     "name": "stdout",
     "output_type": "stream",
     "text": [
      "[0 1]\n",
      "[2 3]\n",
      "[4 5]\n",
      "[6 7]\n"
     ]
    }
   ],
   "source": [
    "while True:\n",
    "  try:\n",
    "    print(sess.run(next_item))\n",
    "  except tf.errors.OutOfRangeError:\n",
    "    break"
   ]
  },
  {
   "cell_type": "code",
   "execution_count": 18,
   "metadata": {},
   "outputs": [
    {
     "name": "stdout",
     "output_type": "stream",
     "text": [
      "[1.2666831 2.2974498 1.6856279]\n",
      "[ 1.1307071   0.18716468 -0.2105145 ]\n",
      "[ 0.25692773 -0.10588226  0.20992926]\n",
      "[-0.5376968   0.19089565 -0.00850342]\n",
      "[ 0.34335142 -1.6524254  -1.1265342 ]\n",
      "[ 0.074256   -0.42968604 -1.4404273 ]\n",
      "[ 0.7598926  -0.47328383 -0.66764927]\n",
      "[-0.54503506 -0.6005337   0.5987202 ]\n",
      "[ 0.358301   -0.5517882   0.00696288]\n",
      "[ 1.4136226   0.24318336 -0.35624066]\n"
     ]
    }
   ],
   "source": [
    "r = tf.random_normal([10,3])\n",
    "dataset = tf.data.Dataset.from_tensor_slices(r)\n",
    "iterator = dataset.make_initializable_iterator()\n",
    "next_row = iterator.get_next()\n",
    "\n",
    "sess.run(iterator.initializer)\n",
    "while True:\n",
    "  try:\n",
    "    print(sess.run(next_row))\n",
    "  except tf.errors.OutOfRangeError:\n",
    "    break"
   ]
  },
  {
   "cell_type": "code",
   "execution_count": 47,
   "metadata": {},
   "outputs": [
    {
     "name": "stdout",
     "output_type": "stream",
     "text": [
      "[[ -3.4535062]\n",
      " [ -6.936869 ]\n",
      " [-10.420232 ]]\n"
     ]
    }
   ],
   "source": [
    "x = tf.placeholder(tf.float32, shape=[None,3])\n",
    "linear_model = tf.layers.Dense(units=1)\n",
    "y = linear_model(x)\n",
    "\n",
    "init = tf.global_variables_initializer()\n",
    "sess.run(init)\n",
    "\n",
    "print(sess.run(y,{x:[[1,2,3],[4,5,6],[7,8,9]]}))"
   ]
  },
  {
   "cell_type": "code",
   "execution_count": 51,
   "metadata": {},
   "outputs": [],
   "source": [
    "features = {\n",
    "    'sales' : [[5], [10], [8], [9]],\n",
    "    'department': ['sports', 'sports', 'gardening', 'gardening']}\n",
    "\n",
    "department_column = tf.feature_column.categorical_column_with_vocabulary_list(\n",
    "        'department', ['sports', 'gardening'])\n",
    "department_column = tf.feature_column.indicator_column(department_column)\n",
    "\n",
    "columns = [\n",
    "    tf.feature_column.numeric_column('sales'),\n",
    "    department_column\n",
    "]\n",
    "\n",
    "inputs = tf.feature_column.input_layer(features, columns)"
   ]
  },
  {
   "cell_type": "code",
   "execution_count": 65,
   "metadata": {},
   "outputs": [
    {
     "name": "stdout",
     "output_type": "stream",
     "text": [
      "[[ 1.  0.  5.]\n",
      " [ 1.  0. 10.]\n",
      " [ 0.  1.  8.]\n",
      " [ 0.  1.  9.]]\n"
     ]
    }
   ],
   "source": [
    "var_init = tf.global_variables_initializer()\n",
    "table_init = tf.tables_initializer()\n",
    "sess = tf.Session()\n",
    "sess.run((var_init, table_init))\n",
    "print(sess.run(inputs))"
   ]
  },
  {
   "cell_type": "markdown",
   "metadata": {},
   "source": [
    "# define the data"
   ]
  },
  {
   "cell_type": "code",
   "execution_count": 86,
   "metadata": {},
   "outputs": [],
   "source": [
    "x = tf.constant(     [[1], [2], [3], [4]], dtype=tf.float32)\n",
    "y_true = tf.constant([[0], [-1], [-2], [-3]], dtype=tf.float32)\n",
    "#this should end up being y = 1 - x"
   ]
  },
  {
   "cell_type": "markdown",
   "metadata": {},
   "source": [
    "# define the model"
   ]
  },
  {
   "cell_type": "code",
   "execution_count": 87,
   "metadata": {},
   "outputs": [],
   "source": [
    "linear_model = tf.layers.Dense(units=1)\n",
    "y_pred = linear_model(x) #remember x is the input set\n",
    "#and linear_model is the \"function\""
   ]
  },
  {
   "cell_type": "markdown",
   "metadata": {},
   "source": [
    "evaluate"
   ]
  },
  {
   "cell_type": "code",
   "execution_count": 88,
   "metadata": {},
   "outputs": [
    {
     "data": {
      "text/plain": [
       "array([[-0.17346013],\n",
       "       [-0.34692025],\n",
       "       [-0.5203804 ],\n",
       "       [-0.6938405 ]], dtype=float32)"
      ]
     },
     "execution_count": 88,
     "metadata": {},
     "output_type": "execute_result"
    }
   ],
   "source": [
    "sess = tf.Session()\n",
    "init = tf.global_variables_initializer()\n",
    "sess.run(init)\n",
    "sess.run(y_pred)"
   ]
  },
  {
   "cell_type": "markdown",
   "metadata": {},
   "source": [
    "That's great, but how's it going to get better?  \n",
    "We need loss, training, and optimization"
   ]
  },
  {
   "cell_type": "code",
   "execution_count": 89,
   "metadata": {},
   "outputs": [
    {
     "data": {
      "text/plain": [
       "1.9910619"
      ]
     },
     "execution_count": 89,
     "metadata": {},
     "output_type": "execute_result"
    }
   ],
   "source": [
    "loss = tf.losses.mean_squared_error(labels=y_true,predictions=y_pred)\n",
    "sess.run(loss)"
   ]
  },
  {
   "cell_type": "code",
   "execution_count": 90,
   "metadata": {},
   "outputs": [],
   "source": [
    "optimizer = tf.train.GradientDescentOptimizer(0.01)#learning rate\n",
    "train = optimizer.minimize(loss)"
   ]
  },
  {
   "cell_type": "code",
   "execution_count": 92,
   "metadata": {},
   "outputs": [
    {
     "name": "stdout",
     "output_type": "stream",
     "text": [
      "1.9910619\n",
      "1.4476519\n",
      "1.0701962\n",
      "0.8078947\n",
      "0.62549883\n",
      "0.4985499\n",
      "0.4100771\n",
      "0.34830415\n",
      "0.3050599\n",
      "0.27467474\n",
      "0.2532146\n",
      "0.23794937\n",
      "0.22698489\n",
      "0.21900699\n",
      "0.21310353\n",
      "0.2086417\n",
      "0.20518236\n",
      "0.20242082\n",
      "0.20014568\n",
      "0.19821005\n",
      "0.19651225\n",
      "0.19498156\n",
      "0.19356894\n",
      "0.19224031\n",
      "0.19097207\n",
      "0.18974784\n",
      "0.18855613\n",
      "0.18738906\n",
      "0.18624114\n",
      "0.18510848\n",
      "0.1839885\n",
      "0.18287927\n",
      "0.18177947\n",
      "0.18068826\n",
      "0.17960486\n",
      "0.1785289\n",
      "0.17746\n",
      "0.17639798\n",
      "0.1753426\n",
      "0.17429377\n",
      "0.17325136\n",
      "0.17221525\n",
      "0.17118543\n",
      "0.17016184\n",
      "0.16914438\n",
      "0.16813305\n",
      "0.1671278\n",
      "0.16612852\n",
      "0.16513525\n",
      "0.1641479\n",
      "0.1631665\n",
      "0.16219094\n",
      "0.1612212\n",
      "0.1602573\n",
      "0.15929912\n",
      "0.15834671\n",
      "0.1574\n",
      "0.15645893\n",
      "0.15552348\n",
      "0.15459363\n",
      "0.15366933\n",
      "0.15275054\n",
      "0.15183727\n",
      "0.15092947\n",
      "0.1500271\n",
      "0.14913008\n",
      "0.14823848\n",
      "0.1473522\n",
      "0.14647117\n",
      "0.14559548\n",
      "0.14472498\n",
      "0.14385968\n",
      "0.14299956\n",
      "0.1421446\n",
      "0.14129472\n",
      "0.14044994\n",
      "0.13961023\n",
      "0.13877554\n",
      "0.13794579\n",
      "0.13712105\n",
      "0.13630123\n",
      "0.13548629\n",
      "0.13467625\n",
      "0.13387102\n",
      "0.13307065\n",
      "0.13227503\n",
      "0.13148418\n",
      "0.13069806\n",
      "0.12991664\n",
      "0.12913989\n",
      "0.12836777\n",
      "0.12760028\n",
      "0.12683736\n",
      "0.12607905\n",
      "0.12532523\n",
      "0.12457594\n",
      "0.12383111\n",
      "0.123090744\n",
      "0.122354835\n",
      "0.121623285\n"
     ]
    }
   ],
   "source": [
    "for i in range(100):\n",
    "    _,loss_value = sess.run([train,loss])\n",
    "    print(loss_value)"
   ]
  },
  {
   "cell_type": "code",
   "execution_count": 103,
   "metadata": {},
   "outputs": [
    {
     "name": "stdout",
     "output_type": "stream",
     "text": [
      "[[-0.56143004]\n",
      " [-1.2720513 ]\n",
      " [-1.9826727 ]\n",
      " [-2.693294  ]]\n",
      "[[ 0.]\n",
      " [-1.]\n",
      " [-2.]\n",
      " [-3.]]\n",
      "0.1208961\n"
     ]
    }
   ],
   "source": [
    "print(sess.run(y_pred))\n",
    "print(sess.run(y_true))\n",
    "print(sess.run(loss))"
   ]
  }
 ],
 "metadata": {
  "kernelspec": {
   "display_name": "Python 3",
   "language": "python",
   "name": "python3"
  },
  "language_info": {
   "codemirror_mode": {
    "name": "ipython",
    "version": 3
   },
   "file_extension": ".py",
   "mimetype": "text/x-python",
   "name": "python",
   "nbconvert_exporter": "python",
   "pygments_lexer": "ipython3",
   "version": "3.5.2"
  }
 },
 "nbformat": 4,
 "nbformat_minor": 2
}

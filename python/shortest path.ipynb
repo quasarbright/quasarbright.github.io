{
 "cells": [
  {
   "cell_type": "code",
   "execution_count": 9,
   "metadata": {},
   "outputs": [],
   "source": [
    "from mylib.graph import *\n",
    "import math"
   ]
  },
  {
   "cell_type": "markdown",
   "metadata": {},
   "source": [
    "# create the graph"
   ]
  },
  {
   "cell_type": "code",
   "execution_count": 5,
   "metadata": {},
   "outputs": [],
   "source": [
    "G = Graph()\n",
    "\n",
    "\n",
    "# nodes (hallway intersections)\n",
    "G.add_node('a1','a2','b1','b2','c1','c2')\n",
    "\n",
    "\n",
    "# straight hallways\n",
    "G.set_edge('a1','a2',3)\n",
    "G.set_edge('b1','b2',3)\n",
    "G.set_edge('c1','c2',3)\n",
    "\n",
    "\n",
    "# inner hallways\n",
    "G.set_edge('a1','b1',1)\n",
    "G.set_edge('b1','c1',1)\n",
    "\n",
    "# outer hallways\n",
    "G.set_edge('a2','b2',3)\n",
    "G.set_edge('b2','c2',3)"
   ]
  },
  {
   "cell_type": "markdown",
   "metadata": {},
   "source": [
    "# Dynamic programming approach  \n",
    "* `d[v]` is the length of the shortest path from vertex $v$ to the target vertex  \n",
    "* `p[v]` is the predecessor of vertex $v$ in that shortest path"
   ]
  },
  {
   "cell_type": "code",
   "execution_count": 12,
   "metadata": {},
   "outputs": [
    {
     "data": {
      "text/plain": [
       "nan"
      ]
     },
     "execution_count": 12,
     "metadata": {},
     "output_type": "execute_result"
    }
   ],
   "source": [
    "target = 'a1' # trying to get to spanish I guess\n",
    "d = {}\n",
    "p = {}\n",
    "\n",
    "\n",
    "# initialize d[v] = infinity for all v because all vertices (except target) need at least 1 edge\n",
    "for node in G.get_nodes():\n",
    "    if node != target:\n",
    "        d[node] = math.inf\n",
    "        p[node] = None\n",
    "\n",
    "\n",
    "n = len(G.get_nodes())\n",
    "\n",
    "\n",
    "# initialize d[target][i] = 0 for all i because target requires 0 edges\n",
    "for i in range(n):\n",
    "    d[target][i] = 0\n",
    "\n",
    "\n",
    "def length(v,t):\n",
    "    "
   ]
  }
 ],
 "metadata": {
  "kernelspec": {
   "display_name": "Python 3",
   "language": "python",
   "name": "python3"
  },
  "language_info": {
   "codemirror_mode": {
    "name": "ipython",
    "version": 3
   },
   "file_extension": ".py",
   "mimetype": "text/x-python",
   "name": "python",
   "nbconvert_exporter": "python",
   "pygments_lexer": "ipython3",
   "version": "3.5.2"
  }
 },
 "nbformat": 4,
 "nbformat_minor": 2
}

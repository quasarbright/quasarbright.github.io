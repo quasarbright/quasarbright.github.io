{
 "cells": [
  {
   "cell_type": "markdown",
   "metadata": {},
   "source": [
    "object implementation"
   ]
  },
  {
   "cell_type": "code",
   "execution_count": 24,
   "metadata": {},
   "outputs": [],
   "source": [
    "class Graph(object):\n",
    "    '''an undirected graph'''\n",
    "    def __init__(self):\n",
    "        self.gdict = {}\n",
    "    def add_node(self,node):\n",
    "        self.gdict[node] = {}\n",
    "    def set_edge(self,n1,n2,obj={}):\n",
    "        '''overwrites edge if already there'''\n",
    "        if isinstance(obj, (int, float)):\n",
    "            obj = {'weight':obj}\n",
    "        assert isinstance(obj,dict)\n",
    "        self.gdict[n1][n2] = obj\n",
    "        self.gdict[n2][n1] = obj\n",
    "    def set_edge_attr(n1,n2,attr,val):\n",
    "        self.gdict[n1][n2][attr] = val\n",
    "    def __getitem__(self,*args):\n",
    "        return self.gdict.__getitem(*args)\n",
    "    def __repr__(self):\n",
    "        return repr(self.gdict)\n",
    "    def __str__(self):\n",
    "        return str(self.gdict)"
   ]
  },
  {
   "cell_type": "markdown",
   "metadata": {},
   "source": [
    "dict implementation (going with this)"
   ]
  },
  {
   "cell_type": "code",
   "execution_count": 133,
   "metadata": {},
   "outputs": [],
   "source": [
    "class NodeAlreadyExistsError(Exception):\n",
    "    pass"
   ]
  },
  {
   "cell_type": "markdown",
   "metadata": {},
   "source": [
    "data structure:\n",
    "```python\n",
    "{node : {\n",
    "        'to':{\n",
    "                node : {edge object},\n",
    "                node : {edge object},\n",
    "                ...\n",
    "             },\n",
    "        'from':{\n",
    "                node : {edge object},\n",
    "                node : {edge object},\n",
    "                ...\n",
    "               }\n",
    "         },\n",
    " node : {...},\n",
    " ...\n",
    "}\n",
    "```"
   ]
  },
  {
   "cell_type": "code",
   "execution_count": 149,
   "metadata": {},
   "outputs": [],
   "source": [
    "class DiGraph(dict):\n",
    "    def add_node(self,*nodes):\n",
    "        '''Add a node to the graph. Can be of any hashable type.\n",
    "        Can add multiple nodes like G.add_node(n1,n2,...).\n",
    "        Raises error if node exists'''\n",
    "        for node in nodes:\n",
    "            if node in self.keys():\n",
    "                raise NodeAlreadyExistsError(node)\n",
    "            else:\n",
    "                self[node] = {'to':{},'from':{}}\n",
    "    def set_edge(self,a,b,obj={}):\n",
    "        '''Create an edge between nodes a and b.\n",
    "        Updates/overwrites edge if one exists.'''\n",
    "        if isinstance(obj, (int, float)):\n",
    "            obj = {'weight':obj}\n",
    "        assert isinstance(obj,dict)\n",
    "        try:\n",
    "            #update edge\n",
    "            edgeobj = {**self[a][b],**obj}\n",
    "            self[a]['to'][b] = edgeobj\n",
    "            self[b]['from'][a] = self[a]['to'][b]\n",
    "        except KeyError as e:\n",
    "            #no edge yet\n",
    "            self[a]['to'][b] = obj\n",
    "            self[b]['from'][a] = self[a]['to'][b]\n",
    "    def get_nodes(self):\n",
    "        '''returns the set of nodes'''\n",
    "        return set(self.keys())\n",
    "    def get_children(self,node):\n",
    "        '''returns a tuple containing children of node'''\n",
    "        return tuple(self[node]['to'].keys())\n",
    "    def get_parents(self,node):\n",
    "        '''Returns a tuple containing parents of node'''\n",
    "        return tuple(self[node]['from'].keys())"
   ]
  },
  {
   "cell_type": "code",
   "execution_count": 150,
   "metadata": {},
   "outputs": [
    {
     "data": {
      "text/plain": [
       "{1: {'from': {}, 'to': {2: {'weight': 10}}},\n",
       " 2: {'from': {1: {'weight': 10}}, 'to': {}}}"
      ]
     },
     "execution_count": 150,
     "metadata": {},
     "output_type": "execute_result"
    }
   ],
   "source": [
    "G = DiGraph()\n",
    "G.add_node(1,2)\n",
    "G.set_edge(1,2,{'weight':10})\n",
    "G"
   ]
  },
  {
   "cell_type": "code",
   "execution_count": 112,
   "metadata": {},
   "outputs": [],
   "source": [
    "class Graph(DiGraph):\n",
    "    def set_edge(self,a,b,obj={}):\n",
    "        super().set_edge(a,b,obj)\n",
    "        super().set_edge(b,a,obj)"
   ]
  },
  {
   "cell_type": "code",
   "execution_count": 13,
   "metadata": {},
   "outputs": [
    {
     "data": {
      "text/plain": [
       "{1: {2: {}}, 2: {1: {}}}"
      ]
     },
     "execution_count": 13,
     "metadata": {},
     "output_type": "execute_result"
    }
   ],
   "source": [
    "G = Graph\n",
    "G.add_node()\n",
    "G"
   ]
  },
  {
   "cell_type": "code",
   "execution_count": 4,
   "metadata": {},
   "outputs": [
    {
     "ename": "TypeError",
     "evalue": "unhashable type: 'list'",
     "output_type": "error",
     "traceback": [
      "\u001b[1;31m---------------------------------------------------------------------------\u001b[0m",
      "\u001b[1;31mTypeError\u001b[0m                                 Traceback (most recent call last)",
      "\u001b[1;32m<ipython-input-4-c61778b985ac>\u001b[0m in \u001b[0;36m<module>\u001b[1;34m()\u001b[0m\n\u001b[0;32m      1\u001b[0m \u001b[0mS\u001b[0m \u001b[1;33m=\u001b[0m \u001b[0mGraph\u001b[0m\u001b[1;33m(\u001b[0m\u001b[1;33m)\u001b[0m\u001b[1;33m\u001b[0m\u001b[0m\n\u001b[1;32m----> 2\u001b[1;33m \u001b[0mS\u001b[0m\u001b[1;33m.\u001b[0m\u001b[0madd_node\u001b[0m\u001b[1;33m(\u001b[0m\u001b[1;33m[\u001b[0m\u001b[1;36m1\u001b[0m\u001b[1;33m,\u001b[0m\u001b[1;36m2\u001b[0m\u001b[1;33m]\u001b[0m\u001b[1;33m)\u001b[0m\u001b[1;33m\u001b[0m\u001b[0m\n\u001b[0m\u001b[0;32m      3\u001b[0m \u001b[0mS\u001b[0m\u001b[1;33m\u001b[0m\u001b[0m\n",
      "\u001b[1;32m<ipython-input-1-e42937503cc9>\u001b[0m in \u001b[0;36madd_node\u001b[1;34m(self, node)\u001b[0m\n\u001b[0;32m      4\u001b[0m         \u001b[0mself\u001b[0m\u001b[1;33m.\u001b[0m\u001b[0mgdict\u001b[0m \u001b[1;33m=\u001b[0m \u001b[1;33m{\u001b[0m\u001b[1;33m}\u001b[0m\u001b[1;33m\u001b[0m\u001b[0m\n\u001b[0;32m      5\u001b[0m     \u001b[1;32mdef\u001b[0m \u001b[0madd_node\u001b[0m\u001b[1;33m(\u001b[0m\u001b[0mself\u001b[0m\u001b[1;33m,\u001b[0m\u001b[0mnode\u001b[0m\u001b[1;33m)\u001b[0m\u001b[1;33m:\u001b[0m\u001b[1;33m\u001b[0m\u001b[0m\n\u001b[1;32m----> 6\u001b[1;33m         \u001b[0mself\u001b[0m\u001b[1;33m.\u001b[0m\u001b[0mgdict\u001b[0m\u001b[1;33m[\u001b[0m\u001b[0mnode\u001b[0m\u001b[1;33m]\u001b[0m \u001b[1;33m=\u001b[0m \u001b[1;33m{\u001b[0m\u001b[1;33m}\u001b[0m\u001b[1;33m\u001b[0m\u001b[0m\n\u001b[0m\u001b[0;32m      7\u001b[0m     \u001b[1;32mdef\u001b[0m \u001b[0madd_edge\u001b[0m\u001b[1;33m(\u001b[0m\u001b[0mself\u001b[0m\u001b[1;33m,\u001b[0m\u001b[0mn1\u001b[0m\u001b[1;33m,\u001b[0m\u001b[0mn2\u001b[0m\u001b[1;33m,\u001b[0m\u001b[0mobj\u001b[0m\u001b[1;33m=\u001b[0m\u001b[1;33m{\u001b[0m\u001b[1;33m}\u001b[0m\u001b[1;33m)\u001b[0m\u001b[1;33m:\u001b[0m\u001b[1;33m\u001b[0m\u001b[0m\n\u001b[0;32m      8\u001b[0m         \u001b[1;32mif\u001b[0m \u001b[0misinstance\u001b[0m\u001b[1;33m(\u001b[0m\u001b[0mobj\u001b[0m\u001b[1;33m,\u001b[0m \u001b[1;33m(\u001b[0m\u001b[0mint\u001b[0m\u001b[1;33m,\u001b[0m \u001b[0mfloat\u001b[0m\u001b[1;33m)\u001b[0m\u001b[1;33m)\u001b[0m\u001b[1;33m:\u001b[0m\u001b[1;33m\u001b[0m\u001b[0m\n",
      "\u001b[1;31mTypeError\u001b[0m: unhashable type: 'list'"
     ]
    }
   ],
   "source": [
    "S = Graph()\n",
    "S.add_node([1,2])\n",
    "S"
   ]
  },
  {
   "cell_type": "code",
   "execution_count": 35,
   "metadata": {},
   "outputs": [
    {
     "data": {
      "text/plain": [
       "{1: {2: {'weight': 32}}, 2: {1: {'weight': 32}}}"
      ]
     },
     "execution_count": 35,
     "metadata": {},
     "output_type": "execute_result"
    }
   ],
   "source": [
    "G.set_edge(1,2,32)\n",
    "G"
   ]
  }
 ],
 "metadata": {
  "kernelspec": {
   "display_name": "Python 3",
   "language": "python",
   "name": "python3"
  },
  "language_info": {
   "codemirror_mode": {
    "name": "ipython",
    "version": 3
   },
   "file_extension": ".py",
   "mimetype": "text/x-python",
   "name": "python",
   "nbconvert_exporter": "python",
   "pygments_lexer": "ipython3",
   "version": "3.5.2"
  }
 },
 "nbformat": 4,
 "nbformat_minor": 2
}

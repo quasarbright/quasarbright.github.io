{
 "cells": [
  {
   "cell_type": "code",
   "execution_count": 3,
   "metadata": {},
   "outputs": [],
   "source": [
    "from my_libraries.graph_theory.MyGraph import *\n",
    "from my_libraries.myDataStructures import *"
   ]
  },
  {
   "cell_type": "markdown",
   "metadata": {},
   "source": [
    "![title](https://lh3.googleusercontent.com/SETZhtkvwfvsY0RAUqFws3qMN_LFYynLiHqpiVxO504rUvCrC7MbvGxEoG7fmn-5NuAMYmPYiQ3i7bfngG-scbCdcLWtyxF4kRI_KvtUj8x8ylZp2-1KbuiEFr7wl7lE2iE4QBY5nw4EJBxPRfFR4heyS45Fen-ELgJ13NYm5yJO8lb63e7KAvyoxMmQ7v3bOBmFaOu-QNCuwwB6Y7v_nIue5otjtH4wbj4v-HQ2LxVRT0CKrO397NSoD_mgY_XWk-Xj54GT6EESn7quEzbTh4YGDZHQ-e0MQJ_MDubW22V_d35iGb0h3NfVpSHm2zrl6VNAtD706JojVNAVxJw1MnBw3VwdcsH4uW_V9YkC8NYhDMQAskQ-zaG0t0stjUvLyueUhQ-bxaI_MGSkqM89pUSBE-tvIjNG0J2B9cqu4Vq1LOVBXtAnCf287ECZigtZzS28vV9f5qkwciMkszjMlyg4ZDT-_K2q5sQIyzYf-Qsdve0nQcv2cx3ZmEQwHe8SHb7wxaKOu1wo-0bXqjx5bWdUI-o8vqOc_WuxCEPVoCWKvnmJ0hH28nLVOCFBHIft_eMuI_9NpFZOFMuLr36Ljk6nUc3clpQy-FJfbBZjsmhokoCYRh3-kE2KyqIwtAccFk_7v6y10QnlXHB0RwzZtWA5ITyxw9eG=w879-h494-no)"
   ]
  },
  {
   "cell_type": "code",
   "execution_count": 32,
   "metadata": {},
   "outputs": [
    {
     "data": {
      "text/plain": [
       "(1, 3, 4, 5)"
      ]
     },
     "execution_count": 32,
     "metadata": {},
     "output_type": "execute_result"
    }
   ],
   "source": [
    "tree = Graph()\n",
    "tree.add_node(*list(range(1,13)))\n",
    "tree.set_edge(1,2)\n",
    "tree.set_edge(2,3)\n",
    "tree.set_edge(2,4)\n",
    "tree.set_edge(2,5)\n",
    "tree.set_edge(1,7)\n",
    "tree.set_edge(7,6)\n",
    "tree.set_edge(7,8)\n",
    "tree.set_edge(8,9)\n",
    "tree.set_edge(8,10)\n",
    "tree.set_edge(1,11)\n",
    "tree.set_edge(11,12)\n",
    "tree.get_neighbors(2)"
   ]
  },
  {
   "cell_type": "markdown",
   "metadata": {},
   "source": [
    "![graph](https://i.imgur.com/ejHnlVT.png)"
   ]
  },
  {
   "cell_type": "code",
   "execution_count": 40,
   "metadata": {},
   "outputs": [
    {
     "data": {
      "text/plain": [
       "(8, 2, 3, 6, 7)"
      ]
     },
     "execution_count": 40,
     "metadata": {},
     "output_type": "execute_result"
    }
   ],
   "source": [
    "G = Graph()\n",
    "G.add_node(*list(range(1,10)))\n",
    "G.set_edge(1,2)\n",
    "G.set_edge(2,5)\n",
    "G.set_edge(5,6)\n",
    "G.set_edge(6,4)\n",
    "G.set_edge(4,3)\n",
    "G.set_edge(2,4)\n",
    "G.set_edge(1,3)\n",
    "G.set_edge(3,4)\n",
    "G.set_edge(3,8)\n",
    "G.set_edge(4,8)\n",
    "G.set_edge(4,7)\n",
    "G.set_edge(7,9)\n",
    "G.add_node(10) #not in picture (by itself)\n",
    "G.get_neighbors(4)"
   ]
  },
  {
   "cell_type": "markdown",
   "metadata": {},
   "source": [
    "depth first search (call stack)"
   ]
  },
  {
   "cell_type": "code",
   "execution_count": 44,
   "metadata": {},
   "outputs": [
    {
     "data": {
      "text/plain": [
       "([2, 1, 3, 8, 4], {1, 2, 3, 4, 8})"
      ]
     },
     "execution_count": 44,
     "metadata": {},
     "output_type": "execute_result"
    }
   ],
   "source": [
    "visited = set()\n",
    "def dfs(G,a,b):\n",
    "    '''returns a path from a to b (not shortest) as a list of nodes\n",
    "    returns False if such a path doesn't exist'''\n",
    "    assert a in G\n",
    "    assert b in G\n",
    "    visited.add(a)\n",
    "    if a is b:\n",
    "        return [b]\n",
    "    neighbors = G.get_neighbors(a)\n",
    "    for node in neighbors:\n",
    "        if node not in visited:\n",
    "            result = dfs(G,node,b)\n",
    "            if result:#if it found it\n",
    "                return [a] + result\n",
    "    #if it gets here, it didn't find anything\n",
    "    return False\n",
    "dfs(G,2,4),visited"
   ]
  },
  {
   "cell_type": "markdown",
   "metadata": {},
   "source": [
    "depth first search (stack stack)"
   ]
  },
  {
   "cell_type": "code",
   "execution_count": null,
   "metadata": {},
   "outputs": [],
   "source": [
    "def dfs(G,a,b):\n",
    "    s = Stack([a])\n",
    "    visited = set([])\n",
    "    visited.add(a)\n",
    "    while not s.isEmpty():\n",
    "        u = s.pop()\n",
    "        nonVisitedNeighbors = set(G.get_neighbors(u)).intersection(visited)\n",
    "        if nonVisitedNeighbors:\n",
    "            w = nonVisitedNeighbors.pop()\n",
    "            visited.add(w)\n",
    "            s.push(w)\n",
    "    "
   ]
  }
 ],
 "metadata": {
  "kernelspec": {
   "display_name": "Python 3",
   "language": "python",
   "name": "python3"
  },
  "language_info": {
   "codemirror_mode": {
    "name": "ipython",
    "version": 3
   },
   "file_extension": ".py",
   "mimetype": "text/x-python",
   "name": "python",
   "nbconvert_exporter": "python",
   "pygments_lexer": "ipython3",
   "version": "3.5.2"
  }
 },
 "nbformat": 4,
 "nbformat_minor": 2
}
